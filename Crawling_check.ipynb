{
 "cells": [
  {
   "cell_type": "markdown",
   "metadata": {},
   "source": [
    "# Evolution of Robot Crawling\n",
    "\n",
    "Use the Pyevolve plotting functions for generating the following graphs of the evolution process:\n",
    "\n",
    "* Error bars graph (raw scores).\n",
    "* Error bars graph (fitness scores).\n",
    "* Max/min/avg/std. dev. graph (raw scores).\n",
    "* Max/min/avg graph (fitness scores).\n",
    "* Raw and Fitness min/max difference graph."
   ]
  },
  {
   "cell_type": "code",
   "execution_count": null,
   "metadata": {},
   "outputs": [],
   "source": [
    "%matplotlib inline\n",
    "from pyevolve_plot import plot_errorbars_raw, plot_errorbars_fitness, \\\n",
    "                          plot_maxmin_raw, plot_maxmin_fitness, \\\n",
    "                          plot_diff_raw"
   ]
  },
  {
   "cell_type": "code",
   "execution_count": null,
   "metadata": {},
   "outputs": [],
   "source": [
    "plot_errorbars_raw('crawling.db','ex1')"
   ]
  },
  {
   "cell_type": "code",
   "execution_count": null,
   "metadata": {},
   "outputs": [],
   "source": [
    "plot_errorbars_fitness('crawling.db','ex1')"
   ]
  },
  {
   "cell_type": "code",
   "execution_count": null,
   "metadata": {},
   "outputs": [],
   "source": [
    "plot_maxmin_raw('crawling.db','ex1')"
   ]
  },
  {
   "cell_type": "code",
   "execution_count": null,
   "metadata": {},
   "outputs": [],
   "source": [
    "plot_maxmin_fitness('crawling.db','ex1')"
   ]
  },
  {
   "cell_type": "code",
   "execution_count": null,
   "metadata": {},
   "outputs": [],
   "source": [
    "plot_diff_raw('crawling.db','ex1')"
   ]
  }
 ],
 "metadata": {
  "kernelspec": {
   "display_name": "Python 3",
   "language": "python",
   "name": "python3"
  },
  "language_info": {
   "codemirror_mode": {
    "name": "ipython",
    "version": 3
   },
   "file_extension": ".py",
   "mimetype": "text/x-python",
   "name": "python",
   "nbconvert_exporter": "python",
   "pygments_lexer": "ipython3",
   "version": "3.8.10"
  }
 },
 "nbformat": 4,
 "nbformat_minor": 1
}
